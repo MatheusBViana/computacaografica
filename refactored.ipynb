{
 "cells": [
  {
   "cell_type": "markdown",
   "metadata": {},
   "source": [
    "# Trabalho Prático 01 - Computação Gráfica SCC0650\n",
    "\n",
    "##### Luiz Fernando Rabelo (11796893) e Matheus Bermudes Viana (11849797)"
   ]
  },
  {
   "cell_type": "markdown",
   "metadata": {},
   "source": [
    "### Importação de Bibliotecas\n",
    "\n",
    "No primeiro passo, importamos as bibliotecas padrão vistas em aula (OpenGL, _glfw_ para gerenciamento das janelas e _numpy_ para operações matemáticas e para manipulação de vetores e matrizes)."
   ]
  },
  {
   "cell_type": "code",
   "execution_count": 1996,
   "metadata": {},
   "outputs": [],
   "source": [
    "import glfw\n",
    "from OpenGL.GL import *\n",
    "import OpenGL.GL.shaders\n",
    "import numpy as np"
   ]
  },
  {
   "cell_type": "markdown",
   "metadata": {},
   "source": [
    "### Inicialização da Janela GLFW\n",
    "\n",
    "Inicializamos a janela com uma largura de 1000 e altura de 800, com o título \"Trabalho Prático 1\", determinando que inicialmente ela não será exibida. Optamos por passar parâmetros nulos para _monitor_ e _share_."
   ]
  },
  {
   "cell_type": "code",
   "execution_count": 1997,
   "metadata": {},
   "outputs": [],
   "source": [
    "glfw.init()\n",
    "glfw.window_hint(glfw.VISIBLE, glfw.FALSE)\n",
    "window = glfw.create_window(1000, 800, 'Trabalho Prático 1', None, None)\n",
    "glfw.make_context_current(window)"
   ]
  },
  {
   "cell_type": "markdown",
   "metadata": {},
   "source": [
    "### Definição de Código GLSL para Vertex Shader e Fragment Shader\n",
    "\n",
    "A fim de possibilitarmos as transformações e configurações de cores, atribuímos códigos GLSL para `vertex_code` e `fragment_code`:"
   ]
  },
  {
   "cell_type": "code",
   "execution_count": 1998,
   "metadata": {},
   "outputs": [],
   "source": [
    "vertex_code = \"\"\"\n",
    "        attribute vec2 position;\n",
    "        uniform mat4 mat_transformation;\n",
    "        void main(){\n",
    "            gl_Position = mat_transformation * vec4(position,0.0,1.0);\n",
    "        }\n",
    "        \"\"\"\n",
    "\n",
    "fragment_code = \"\"\"\n",
    "        uniform vec4 color;\n",
    "        void main(){\n",
    "            gl_FragColor = color;\n",
    "        }\n",
    "        \"\"\""
   ]
  },
  {
   "cell_type": "markdown",
   "metadata": {},
   "source": [
    "### Requisição de slot para a GPU para Vertex e Fragment Shaders"
   ]
  },
  {
   "cell_type": "code",
   "execution_count": 1999,
   "metadata": {},
   "outputs": [],
   "source": [
    "program  = glCreateProgram()\n",
    "vertex   = glCreateShader(GL_VERTEX_SHADER)\n",
    "fragment = glCreateShader(GL_FRAGMENT_SHADER)"
   ]
  },
  {
   "cell_type": "markdown",
   "metadata": {},
   "source": [
    "### Associação do Código Fonte aos Slots Solicitados"
   ]
  },
  {
   "cell_type": "code",
   "execution_count": 2000,
   "metadata": {},
   "outputs": [],
   "source": [
    "glShaderSource(vertex, vertex_code)\n",
    "glShaderSource(fragment, fragment_code)"
   ]
  },
  {
   "cell_type": "markdown",
   "metadata": {},
   "source": [
    "### Compilação do Vertex e Fragment Shaders"
   ]
  },
  {
   "cell_type": "code",
   "execution_count": 2001,
   "metadata": {},
   "outputs": [],
   "source": [
    "# Compilação do Vertex Shader:\n",
    "glCompileShader(vertex)\n",
    "if not glGetShaderiv(vertex, GL_COMPILE_STATUS):\n",
    "    error = glGetShaderInfoLog(vertex).decode()\n",
    "    print(error)\n",
    "    raise RuntimeError(\"Erro de compilacao do Vertex Shader\")\n",
    "\n",
    "# Compilação do Fragment Shader:\n",
    "glCompileShader(fragment)\n",
    "if not glGetShaderiv(fragment, GL_COMPILE_STATUS):\n",
    "    error = glGetShaderInfoLog(fragment).decode()\n",
    "    print(error)\n",
    "    raise RuntimeError(\"Erro de compilacao do Fragment Shader\")"
   ]
  },
  {
   "cell_type": "markdown",
   "metadata": {},
   "source": [
    "### Linkagem do Programa"
   ]
  },
  {
   "cell_type": "code",
   "execution_count": 2002,
   "metadata": {},
   "outputs": [],
   "source": [
    "# Associação dos Shaders complilados ao programa principal:\n",
    "glAttachShader(program, vertex)\n",
    "glAttachShader(program, fragment)\n",
    "\n",
    "# Construção do programa:\n",
    "glLinkProgram(program)\n",
    "if not glGetProgramiv(program, GL_LINK_STATUS):\n",
    "    print(glGetProgramInfoLog(program))\n",
    "    raise RuntimeError('Linking error')\n",
    "    \n",
    "# Declaração do programa atual como o default:\n",
    "glUseProgram(program)"
   ]
  },
  {
   "cell_type": "markdown",
   "metadata": {},
   "source": [
    "### Preparação dos Dados que Serão Enviados para a GPU\n",
    "\n",
    "A fim de modularizar a criação das coordenadas, foram desenvolvidas algumas funções responsáveis por construir os vértices dos objetos. Cada uma dessas funções retorna uma lista de tuplas representando as coordenadas computadas do objeto."
   ]
  },
  {
   "cell_type": "markdown",
   "metadata": {},
   "source": [
    "##### Função para Criação dos Vértices de um Círculo Genérico"
   ]
  },
  {
   "cell_type": "code",
   "execution_count": 2003,
   "metadata": {},
   "outputs": [],
   "source": [
    "def create_circle_vertices(radius, total_vertices):\n",
    "    vertices = []\n",
    "    step = 2 * np.pi / total_vertices\n",
    "    angle = 0\n",
    "    for i in range(total_vertices):\n",
    "        vertices.append((radius * np.cos(angle), radius * np.sin(angle)))\n",
    "        angle += step\n",
    "    return vertices"
   ]
  },
  {
   "cell_type": "markdown",
   "metadata": {},
   "source": [
    "##### Função para Criação dos Vértices da Grama"
   ]
  },
  {
   "cell_type": "code",
   "execution_count": 2004,
   "metadata": {},
   "outputs": [],
   "source": [
    "def create_grass_vertices():\n",
    "    vertices = []\n",
    "    for i in range(-13, 11, 1):\n",
    "        vertices.append((i/10, -0.9 if i % 3 == 0 else -1))\n",
    "    for i in range(-13, 11, 1):\n",
    "        vertices.append((i/10 - 0.165, -0.9 if i % 3 == 0 else -1))\n",
    "    return vertices"
   ]
  },
  {
   "cell_type": "markdown",
   "metadata": {},
   "source": [
    "##### Função para Criação dos Vértices do Corpo de uma Pessoa"
   ]
  },
  {
   "cell_type": "code",
   "execution_count": 2005,
   "metadata": {},
   "outputs": [],
   "source": [
    "# TODO\n",
    "def create_person_body_vertices():\n",
    "    vertices = []\n",
    "    return vertices"
   ]
  },
  {
   "cell_type": "markdown",
   "metadata": {},
   "source": [
    "##### Função para Criação dos Vértices do Cabo de um Catavento"
   ]
  },
  {
   "cell_type": "code",
   "execution_count": 2006,
   "metadata": {},
   "outputs": [],
   "source": [
    "# TODO\n",
    "def create_wind_mill_handle_vertices():\n",
    "    vertices = []\n",
    "    return vertices"
   ]
  },
  {
   "cell_type": "markdown",
   "metadata": {},
   "source": [
    "##### Função para Criação dos Vértices das Pás de um Catavento"
   ]
  },
  {
   "cell_type": "code",
   "execution_count": 2007,
   "metadata": {},
   "outputs": [],
   "source": [
    "# TODO\n",
    "def create_wind_mill_shovel_vertices():\n",
    "    vertices = []\n",
    "    return vertices\n"
   ]
  },
  {
   "cell_type": "markdown",
   "metadata": {},
   "source": [
    "##### Função para Criação dos Vértices do Tronco da Árvore"
   ]
  },
  {
   "cell_type": "code",
   "execution_count": 2008,
   "metadata": {},
   "outputs": [],
   "source": [
    "# TODO\n",
    "def create_tree_trunk_vertices():\n",
    "    vertices = []\n",
    "    return vertices\n"
   ]
  },
  {
   "cell_type": "markdown",
   "metadata": {},
   "source": [
    "##### Função para Criação dos Vértices da Copa da Árvore"
   ]
  },
  {
   "cell_type": "code",
   "execution_count": 2009,
   "metadata": {},
   "outputs": [],
   "source": [
    "# TODO\n",
    "def create_tree_top_vertices():\n",
    "    #! Fazer ondulada ou quadrada (vai ficar mais fácil, só chamar GL_TRIANGLE_FAN 1 vez)\n",
    "    vertices = []\n",
    "    return vertices"
   ]
  },
  {
   "cell_type": "markdown",
   "metadata": {},
   "source": [
    "##### Criação dos Vértices dos Objetos"
   ]
  },
  {
   "cell_type": "code",
   "execution_count": 2010,
   "metadata": {},
   "outputs": [],
   "source": [
    "# Criação dos vértices do sol:\n",
    "sun_start = 0\n",
    "sun_vertices = create_circle_vertices(0.2, 10)\n",
    "sun_end = sun_start + len(sun_vertices)\n",
    "\n",
    "# Criação dos vértices da lua:\n",
    "moon_start = sun_end\n",
    "moon_vertices = create_circle_vertices(0.15, 30)\n",
    "moon_end = moon_start + len(moon_vertices)\n",
    "\n",
    "# Criação dos vértices da grama:\n",
    "grass_start = moon_end\n",
    "grass_vertices = create_grass_vertices()\n",
    "grass_end = grass_start + len(grass_vertices)\n",
    "\n",
    "# Criação dos vértices do corpo da pessoa azul:\n",
    "blue_p_body_start = grass_end \n",
    "blue_p_body_vertices = create_person_body_vertices()\n",
    "blue_p_body_end = blue_p_body_start + len(blue_p_body_vertices)\n",
    "\n",
    "# Criação dos vértices da cabeça da pessoa azul:\n",
    "blue_p_head_start = blue_p_body_end\n",
    "blue_p_head_vertices = create_circle_vertices(0.1, 30)\n",
    "blue_p_head_end = blue_p_head_start + len(blue_p_head_vertices)\n",
    "\n",
    "# Criação dos vértices do corpo da pessoa rosa:\n",
    "pink_p_body_start = blue_p_head_end \n",
    "pink_p_body_vertices = create_person_body_vertices()\n",
    "pink_p_body_end = pink_p_body_start + len(pink_p_body_vertices)\n",
    "\n",
    "# Criação dos vértices da cabeça da pessoa rosa:\n",
    "pink_p_head_start = pink_p_body_end\n",
    "pink_p_head_vertices = create_circle_vertices(0.1, 30)\n",
    "pink_p_head_end = pink_p_head_start + len(pink_p_head_vertices)\n",
    "\n",
    "# Criação dos vértices do cabo do catavento roxo:\n",
    "purple_wm_handle_start = pink_p_head_end\n",
    "purple_wm_handle_vertices = create_wind_mill_handle_vertices()\n",
    "purple_wm_handle_end = purple_wm_handle_start + len(purple_wm_handle_vertices)\n",
    "\n",
    "# Criação dos vértices das pás do catavento roxo:\n",
    "purple_wm_shovel_start = purple_wm_handle_end\n",
    "purple_wm_shovel_vertices = create_wind_mill_shovel_vertices()\n",
    "purple_wm_shovel_end = purple_wm_shovel_start + len(purple_wm_shovel_vertices)\n",
    "\n",
    "# Criação dos vértices do cabo do catavento vermelho:\n",
    "red_wm_handle_start = purple_wm_shovel_end\n",
    "red_wm_handle_vertices = create_wind_mill_handle_vertices()\n",
    "red_wm_handle_end = red_wm_handle_start + len(red_wm_handle_vertices)\n",
    "\n",
    "# Criação dos vértices das pás do catavento vermelho:\n",
    "red_wm_shovel_start = red_wm_handle_end\n",
    "red_wm_shovel_vertices = create_wind_mill_shovel_vertices()\n",
    "red_wm_shovel_end = red_wm_shovel_start + len(red_wm_shovel_vertices)\n",
    "\n",
    "# Criação dos vértices do tronco da árvore:\n",
    "tree_trunk_start = red_wm_shovel_end\n",
    "tree_trunk_vertices = create_tree_trunk_vertices()\n",
    "tree_trunk_end = tree_trunk_start + len(tree_trunk_vertices)\n",
    "\n",
    "# Criação dos vértices da copa da árvore:\n",
    "tree_top_start = tree_trunk_end\n",
    "tree_top_vertices = create_tree_top_vertices()\n",
    "tree_top_end = tree_top_start + len(tree_top_vertices)"
   ]
  },
  {
   "cell_type": "markdown",
   "metadata": {},
   "source": [
    "##### Criação de Vetor Único com as Coordenadas dos Objetos"
   ]
  },
  {
   "cell_type": "code",
   "execution_count": 2011,
   "metadata": {},
   "outputs": [],
   "source": [
    "# Determinação do total de vértices:\n",
    "total_vertices = tree_top_end\n",
    "\n",
    "# Preparação de espaço para os vértices, usando 2 coordenadas (x, y):\n",
    "vertices = np.zeros(total_vertices, [('position', np.float32, 2)])\n",
    "\n",
    "# Preenchimento das coordenadas do sol:\n",
    "for i in range(len(sun_vertices)):\n",
    "    vertices['position'][sun_start + i] = sun_vertices[i]\n",
    "\n",
    "# Preenchimento das coordenadas da lua:\n",
    "for i in range(len(moon_vertices)):\n",
    "    vertices['position'][moon_start + i] = moon_vertices[i]\n",
    "\n",
    "# Preenchimento das coordenadas da grama:\n",
    "for i in range(len(grass_vertices)):\n",
    "    vertices['position'][grass_start + i] = grass_vertices[i]\n",
    "\n",
    "# Preenchimento das coordenadas do corpo da pessoa azul:\n",
    "for i in range(len(blue_p_body_vertices)):\n",
    "    vertices['position'][blue_p_body_start + i] = blue_p_body_vertices[i]\n",
    "\n",
    "# Preenchimento das coordenadas da cabeça da pessoa azul:\n",
    "for i in range(len(blue_p_head_vertices)):\n",
    "    vertices['position'][blue_p_head_start + i] = blue_p_head_vertices[i]\n",
    "\n",
    "# Preenchimento das coordenadas do corpo da pessoa rosa:\n",
    "for i in range(len(pink_p_body_vertices)):\n",
    "    vertices['position'][pink_p_body_start + i] = pink_p_body_vertices[i]\n",
    "\n",
    "# Preenchimento das coordenadas da cabeça da pessoa rosa:\n",
    "for i in range(len(pink_p_head_vertices)):\n",
    "    vertices['position'][pink_p_head_start + i] = pink_p_head_vertices[i]\n",
    "\n",
    "# Preenchimento das coordenadas do cabo do catavento roxo:\n",
    "for i in range(len(purple_wm_handle_vertices)):\n",
    "    vertices['position'][purple_wm_handle_start + i] = purple_wm_handle_vertices[i]\n",
    "\n",
    "# Preenchimento das coordenadas das pás do catavento roxo:\n",
    "for i in range(len(purple_wm_shovel_vertices)):\n",
    "    vertices['position'][purple_wm_shovel_start + i] = purple_wm_shovel_vertices[i]\n",
    "\n",
    "# Preenchimento das coordenadas do cabo do catavento vermelho:\n",
    "for i in range(len(red_wm_handle_vertices)):\n",
    "    vertices['position'][red_wm_handle_start + i] = red_wm_handle_vertices[i]\n",
    "\n",
    "# Preenchimento das coordenadas das pás do catavento vermelho:\n",
    "for i in range(len(red_wm_shovel_vertices)):\n",
    "    vertices['position'][red_wm_shovel_start + i] = red_wm_shovel_vertices[i]\n",
    "\n",
    "# Preenchimento das coordenadas do tronco da árvore:\n",
    "for i in range(len(tree_trunk_vertices)):\n",
    "    vertices['position'][tree_trunk_start + i] = tree_trunk_vertices[i]\n",
    "\n",
    "# Preenchimento das coordenadas da copa da árvore:\n",
    "for i in range(len(tree_top_vertices)):\n",
    "    vertices['position'][tree_top_start + i] = tree_top_vertices[i]"
   ]
  },
  {
   "cell_type": "markdown",
   "metadata": {},
   "source": [
    "### Requisição de Slot de Buffer para a GPU e Envio dos Vértices"
   ]
  },
  {
   "cell_type": "code",
   "execution_count": 2012,
   "metadata": {},
   "outputs": [],
   "source": [
    "# Requisição de slot de buffer da GPU:\n",
    "buffer = glGenBuffers(1)\n",
    "\n",
    "# Determinação que o buffer atual é o default:\n",
    "glBindBuffer(GL_ARRAY_BUFFER, buffer)\n",
    "\n",
    "# Envio dos dados:\n",
    "glBufferData(GL_ARRAY_BUFFER, vertices.nbytes, vertices, GL_DYNAMIC_DRAW)\n",
    "glBindBuffer(GL_ARRAY_BUFFER, buffer)"
   ]
  },
  {
   "cell_type": "markdown",
   "metadata": {},
   "source": [
    "### Associação das Variáveis do GLSL com os Dados:"
   ]
  },
  {
   "cell_type": "code",
   "execution_count": 2013,
   "metadata": {},
   "outputs": [],
   "source": [
    "# Definição do byte inicial e do offset de dados:\n",
    "stride = vertices.strides[0]\n",
    "offset = ctypes.c_void_p(0)\n",
    "\n",
    "# Definição da variável position no vertex shader:\n",
    "loc = glGetAttribLocation(program, \"position\")\n",
    "glEnableVertexAttribArray(loc)\n",
    "\n",
    "# Indicação do conteúdo para a variável position para a GPU:\n",
    "glVertexAttribPointer(loc, 2, GL_FLOAT, False, stride, offset)\n",
    "\n",
    "# Obtenção da localização da variável color, para que possa ser alterada:\n",
    "loc_color = glGetUniformLocation(program, \"color\")"
   ]
  },
  {
   "cell_type": "markdown",
   "metadata": {},
   "source": [
    "### Criação de Variáveis \"Globais\""
   ]
  },
  {
   "cell_type": "code",
   "execution_count": 2014,
   "metadata": {},
   "outputs": [],
   "source": [
    "# Offsets de translação do sol / lua:\n",
    "t_x_moon_sun = 0   # offset horizontal\n",
    "t_y_moon_sun = .7  # offset vertical\n",
    "\n",
    "# Grau de escala da árvore:\n",
    "# TODO\n",
    "\n",
    "# Ângulo de rotação dos cataventos:\n",
    "# TODO\n",
    "\n",
    "# Flag de dia e noite:\n",
    "day = True\n",
    "\n",
    "# Escala RGB do plano de fundo:\n",
    "R = 0.1\n",
    "G = 0.2\n",
    "B = 0.9"
   ]
  },
  {
   "cell_type": "markdown",
   "metadata": {},
   "source": [
    "### Definição de Constantes Associadas ao Teclado\n",
    "\n",
    "A fim de deixar o código mais legível, associamos alguns valores numéricos de códigos de teclas a constantes de nomes correspondentes. Definimos:"
   ]
  },
  {
   "cell_type": "code",
   "execution_count": 2015,
   "metadata": {},
   "outputs": [],
   "source": [
    "# Letras e seus códigos:\n",
    "W_CODE = 87  # pessoa azul cima\n",
    "A_CODE = 65  # pessoa azul esquerda\n",
    "S_CODE = 83  # pessoa azul baixo\n",
    "D_CODE = 68  # pessoa azul direita\n",
    "I_CODE = 73  # pessoa rosa cima\n",
    "J_CODE = 74  # pessoa rosa esquerda\n",
    "K_CODE = 75  # pessoa rosa baixo\n",
    "L_CODE = 76  # pessoa rosa direita\n",
    "\n",
    "# Setas e seus códigos:\n",
    "RIGHT_CODE = 262  # rotação dos cataventos direção 1\n",
    "LEFT_CODE  = 263  # rotação dos cataventos direção 2\n",
    "DOWN_CODE  = 264  # escala vertical menor\n",
    "UP_CODE    = 265  # escala vertical maior"
   ]
  },
  {
   "cell_type": "markdown",
   "metadata": {},
   "source": [
    "### Definição de Constantes Associadas à Coordenadas"
   ]
  },
  {
   "cell_type": "code",
   "execution_count": 2016,
   "metadata": {},
   "outputs": [],
   "source": [
    "# Limites das posições em que as pessoas podem ocupar:\n",
    "PERSON_MAX_X = +0.7\n",
    "PERSON_MIN_X = -0.3\n",
    "PERSON_MAX_Y = +0.7\n",
    "PERSON_MIN_Y = -0.3"
   ]
  },
  {
   "cell_type": "markdown",
   "metadata": {},
   "source": [
    "### Função para Capturar Eventos de Teclado\n"
   ]
  },
  {
   "cell_type": "code",
   "execution_count": 2017,
   "metadata": {},
   "outputs": [],
   "source": [
    "def key_event(window, key, scancode, action, mods):\n",
    "    global px_blue, py_blue, px_pink, py_pink, s\n",
    "\n",
    "    # # Atualização do px da pessoa azul:\n",
    "    # if key == D_CODE and px_blue <= PERSON_MAX_X - 0.01: px_blue += 0.01  # direita\n",
    "    # if key == A_CODE and px_blue >= PERSON_MIN_X + 0.01: px_blue -= 0.01  # esquerda\n",
    "\n",
    "    # # Atualização do py da pessoa azul:\n",
    "    # if key == W_CODE and py_blue <= PERSON_MAX_Y - 0.01: py_blue += 0.01  # cima\n",
    "    # if key == S_CODE and py_blue >= PERSON_MIN_Y + 0.01: py_blue -= 0.01  # baixo\n",
    "\n",
    "    # # Atualização do px da pessoa rosa:\n",
    "    # if key == L_CODE and px_pink <= PERSON_MAX_X - 0.01: px_pink += 0.01  # direita\n",
    "    # if key == J_CODE and px_pink >= PERSON_MIN_X + 0.01: px_pink -= 0.01  # esquerda\n",
    "\n",
    "    # # Atualização do py da pessoa rosa:\n",
    "    # if key == I_CODE and py_pink <= PERSON_MAX_Y - 0.01: py_pink += 0.01  # cima\n",
    "    # if key == K_CODE and py_pink >= PERSON_MIN_Y + 0.01: py_pink -= 0.01  # baixo\n",
    "\n",
    "    # TODO renomear s e angle2\n",
    "\n",
    "    # if key == UP_CODE and s < 2.0: s += 0.01    # aumentar escala\n",
    "    # if key == DOWN_CODE and s > 0.5: s -= 0.01  # diminuir escala\n",
    "\n",
    "    # if key == RIGHT_CODE: angle2 += 0.02 # Right arrow\n",
    "    # if key == LEFT_CODE: angle2 -= 0.02 # Left ar\n"
   ]
  },
  {
   "cell_type": "markdown",
   "metadata": {},
   "source": [
    "### Função que cria uma Matriz de Translação"
   ]
  },
  {
   "cell_type": "code",
   "execution_count": 2018,
   "metadata": {},
   "outputs": [],
   "source": [
    "def create_translation_matrix(t_x, t_y):\n",
    "    translation_matrix = np.array([ 1.0, 0.0, 0.0, t_x, \n",
    "                                    0.0, 1.0, 0.0, t_y, \n",
    "                                    0.0, 0.0, 1.0, 0.0, \n",
    "                                    0.0, 0.0, 0.0, 1.0], np.float32)\n",
    "    return translation_matrix"
   ]
  },
  {
   "cell_type": "markdown",
   "metadata": {},
   "source": [
    "### Função que cria uma Matriz de Rotação"
   ]
  },
  {
   "cell_type": "code",
   "execution_count": 2019,
   "metadata": {},
   "outputs": [],
   "source": [
    "def create_rotation_matrix(angle):\n",
    "    rotation_matrix = np.array([ np.cos(angle), -np.sin(angle), 0.0, 0.0, \n",
    "                                 np.sin(angle),  np.cos(angle), 0.0, 0.0, \n",
    "                                 0.0,            0.0,           1.0, 0.0, \n",
    "                                 0.0,            0.0,           0.0, 1.0], np.float32)\n",
    "    return rotation_matrix"
   ]
  },
  {
   "cell_type": "markdown",
   "metadata": {},
   "source": [
    "### Função que cria uma Matriz de Escala"
   ]
  },
  {
   "cell_type": "code",
   "execution_count": null,
   "metadata": {},
   "outputs": [],
   "source": [
    "def create_scale_matrix(s):\n",
    "    scale_matrix = np.array([ s,   0.0, 0.0, 0.0, \n",
    "                              0.0, s,   0.0, 0.0, \n",
    "                              0.0, 0.0, 1.0, 0.0, \n",
    "                              0.0, 0.0, 0.0, 1.0], np.float32)\n",
    "    return scale_matrix"
   ]
  },
  {
   "cell_type": "markdown",
   "metadata": {},
   "source": [
    "### Funçao que cria uma Matriz Identidade"
   ]
  },
  {
   "cell_type": "code",
   "execution_count": null,
   "metadata": {},
   "outputs": [],
   "source": [
    "def create_identity_matrix():\n",
    "    no_transformation_matrix = np.array([ 1.0, 0.0, 0.0, 0.0, \n",
    "                                          0.0, 1.0, 0.0, 0.0, \n",
    "                                          0.0, 0.0, 1.0, 0.0, \n",
    "                                          0.0, 0.0, 0.0, 1.0],\n",
    "                                          np.float32)\n",
    "    return no_transformation_matrix"
   ]
  },
  {
   "cell_type": "markdown",
   "metadata": {},
   "source": [
    "### Função para Desenho da Cor de Fundo Diurna"
   ]
  },
  {
   "cell_type": "code",
   "execution_count": null,
   "metadata": {},
   "outputs": [],
   "source": [
    "def draw_day_time_background():\n",
    "    global t_x_moon_sun, R, G, B\n",
    "\n",
    "    # Atualização da cor:\n",
    "    if t_x_moon_sun < 0:\n",
    "        B += 0.000355\n",
    "    else:\n",
    "        B -= 0.000355\n",
    "    \n",
    "    # Limpeza do buffer e sobreposição com a cor atualizada:\n",
    "    glClear(GL_COLOR_BUFFER_BIT)\n",
    "    glClearColor(R, G, B, 1.0)"
   ]
  },
  {
   "cell_type": "markdown",
   "metadata": {},
   "source": [
    "### Função para Desenho da Cor de Fundo Noturna"
   ]
  },
  {
   "cell_type": "code",
   "execution_count": null,
   "metadata": {},
   "outputs": [],
   "source": [
    "def draw_night_time_background():\n",
    "    global R, G, B\n",
    "\n",
    "    # Limpeza do buffer e sobreposição com a cor estática:\n",
    "    glClear(GL_COLOR_BUFFER_BIT)\n",
    "    glClearColor(R, G, B, 1.0)"
   ]
  },
  {
   "cell_type": "markdown",
   "metadata": {},
   "source": [
    "### Função para Desenho de Cor de Fundo Aleatória"
   ]
  },
  {
   "cell_type": "code",
   "execution_count": null,
   "metadata": {},
   "outputs": [],
   "source": [
    "def draw_random_color_background():\n",
    "    # Limpeza do buffer e sobreposição com a cor aleatória:\n",
    "    glClear(GL_COLOR_BUFFER_BIT)\n",
    "    glClearColor(np.random.rand(), np.random.rand(), np.random.rand(), 1.0)"
   ]
  },
  {
   "cell_type": "markdown",
   "metadata": {},
   "source": [
    "### Função para Desenho do Sol"
   ]
  },
  {
   "cell_type": "code",
   "execution_count": null,
   "metadata": {},
   "outputs": [],
   "source": [
    "def draw_sun():\n",
    "    global loc, loc_color, t_x_moon_sun, t_y_moon_sun, day, R, G, B\n",
    "\n",
    "    # Definição da cor do sol:\n",
    "    glUniform4f(loc_color, 1, .8, .1, 1.0)  # amarelo\n",
    "\n",
    "    # Atualização da posição:\n",
    "    t_x_moon_sun += 0.00071\n",
    "    glUniformMatrix4fv(loc, 1, GL_TRUE, create_translation_matrix(t_x_moon_sun, t_y_moon_sun))\n",
    "\n",
    "    # Desenho dos vértices:\n",
    "    glDrawArrays(GL_TRIANGLE_FAN, sun_start, len(sun_vertices))\n",
    "\n",
    "    # Verificação da troca de período:\n",
    "    if t_x_moon_sun >= 1.2:\n",
    "        day = False\n",
    "        t_x_moon_sun = -1.2\n",
    "        R, G, B = .1, .1, .1"
   ]
  },
  {
   "cell_type": "markdown",
   "metadata": {},
   "source": [
    "### Função para Desenho da Lua"
   ]
  },
  {
   "cell_type": "code",
   "execution_count": null,
   "metadata": {},
   "outputs": [],
   "source": [
    "def draw_moon():\n",
    "    global loc, loc_color, t_x_moon_sun, t_y_moon_sun, day, R, G, B\n",
    "\n",
    "    # Definição da cor da lua:\n",
    "    glUniform4f(loc_color, .9, .9, .95, 1.0)  # cinza azulado\n",
    "\n",
    "    # Atualização da posição:\n",
    "    t_x_moon_sun += 0.0005\n",
    "    glUniformMatrix4fv(loc, 1, GL_TRUE, create_translation_matrix(t_x_moon_sun, t_y_moon_sun))\n",
    "\n",
    "    # Desenho dos vértices:\n",
    "    glDrawArrays(GL_TRIANGLE_FAN, moon_start, len(moon_vertices))\n",
    "\n",
    "    # Verificação da troca de período:\n",
    "    if t_x_moon_sun >= 1.2:\n",
    "        day = True\n",
    "        t_x_moon_sun = -1.2\n",
    "        R, G, B = .1, .2, .3"
   ]
  },
  {
   "cell_type": "markdown",
   "metadata": {},
   "source": [
    "### Função para Desenho da Grama"
   ]
  },
  {
   "cell_type": "code",
   "execution_count": null,
   "metadata": {},
   "outputs": [],
   "source": [
    "def draw_grass():\n",
    "    global loc, loc_color\n",
    "\n",
    "    # Definição da cor da grama:\n",
    "    glUniform4f(loc_color, .3, 1, .3, 1.0)  # verde\n",
    "\n",
    "    # Desenho dos vértices (posição estática):\n",
    "    glUniformMatrix4fv(loc, 1, GL_TRUE, create_identity_matrix())\n",
    "    glDrawArrays(GL_TRIANGLES, grass_start, len(grass_vertices))"
   ]
  },
  {
   "cell_type": "markdown",
   "metadata": {},
   "source": [
    "### Função para Desenho da Pessoa Azul"
   ]
  },
  {
   "cell_type": "code",
   "execution_count": null,
   "metadata": {},
   "outputs": [],
   "source": [
    "# TODO\n",
    "def draw_blue_person():\n",
    "    pass"
   ]
  },
  {
   "cell_type": "markdown",
   "metadata": {},
   "source": [
    "### Função para Desenho da Pessoa Rosa"
   ]
  },
  {
   "cell_type": "code",
   "execution_count": null,
   "metadata": {},
   "outputs": [],
   "source": [
    "# TODO\n",
    "def draw_pink_person():\n",
    "    pass"
   ]
  },
  {
   "cell_type": "markdown",
   "metadata": {},
   "source": [
    "### Função para Desenho do Catavento Roxo"
   ]
  },
  {
   "cell_type": "code",
   "execution_count": null,
   "metadata": {},
   "outputs": [],
   "source": [
    "# TODO\n",
    "def draw_purple_wind_mill():\n",
    "    pass"
   ]
  },
  {
   "cell_type": "markdown",
   "metadata": {},
   "source": [
    "### Função para Desenho do Catavento Vermelho"
   ]
  },
  {
   "cell_type": "code",
   "execution_count": null,
   "metadata": {},
   "outputs": [],
   "source": [
    "# TODO\n",
    "def draw_red_wind_mill():\n",
    "    pass"
   ]
  },
  {
   "cell_type": "markdown",
   "metadata": {},
   "source": [
    "### Função para Desenho da Árvore"
   ]
  },
  {
   "cell_type": "code",
   "execution_count": null,
   "metadata": {},
   "outputs": [],
   "source": [
    "# TODO\n",
    "def draw_tree():\n",
    "    pass"
   ]
  },
  {
   "cell_type": "markdown",
   "metadata": {},
   "source": [
    "### Exibição da Janela"
   ]
  },
  {
   "cell_type": "code",
   "execution_count": null,
   "metadata": {},
   "outputs": [],
   "source": [
    "glfw.show_window(window)"
   ]
  },
  {
   "cell_type": "markdown",
   "metadata": {},
   "source": [
    "### Loop Principal da Janela\n",
    "\n",
    "Enquanto a janela não for fechada, executamos o nosso laço principal:"
   ]
  },
  {
   "cell_type": "code",
   "execution_count": null,
   "metadata": {},
   "outputs": [],
   "source": [
    "while not glfw.window_should_close(window):\n",
    "\n",
    "    # Captação de eventos glfw:\n",
    "    glfw.poll_events() \n",
    "\n",
    "    # Desenho do cenário diurno ou noturno:\n",
    "    if day:\n",
    "        draw_day_time_background()\n",
    "        draw_sun()\n",
    "    else:\n",
    "        draw_night_time_background()\n",
    "        draw_moon()\n",
    "    \n",
    "    # Desenho da árvore:\n",
    "    # TODO: desenhar árvore antes da grama, para ficar por baixo\n",
    "\n",
    "    # Desenho da grama:\n",
    "    draw_grass()\n",
    "\n",
    "\n",
    "    # !\n",
    "    # !\n",
    "    # Desenho dos demais objetos aqui:\n",
    "    # !\n",
    "    # !\n",
    "\n",
    "\n",
    "\n",
    "    # Atualização da localização de mat_transformation:\n",
    "    loc = glGetUniformLocation(program, 'mat_transformation')\n",
    "\n",
    "    # Troca de buffers glfw:\n",
    "    glfw.swap_buffers(window)\n"
   ]
  },
  {
   "cell_type": "markdown",
   "metadata": {},
   "source": [
    "### Finalização da Execução\n",
    "\n",
    "Quando a janela for fechada, o laço principal será interrompido e podemos finalizar o sistema de janela _GLFW_:"
   ]
  },
  {
   "cell_type": "code",
   "execution_count": null,
   "metadata": {},
   "outputs": [],
   "source": [
    "glfw.terminate()"
   ]
  }
 ],
 "metadata": {
  "kernelspec": {
   "display_name": "Python 3.8.10 64-bit",
   "language": "python",
   "name": "python3"
  },
  "language_info": {
   "codemirror_mode": {
    "name": "ipython",
    "version": 3
   },
   "file_extension": ".py",
   "mimetype": "text/x-python",
   "name": "python",
   "nbconvert_exporter": "python",
   "pygments_lexer": "ipython3",
   "version": "3.8.10"
  },
  "orig_nbformat": 4,
  "vscode": {
   "interpreter": {
    "hash": "916dbcbb3f70747c44a77c7bcd40155683ae19c65e1c03b4aa3499c5328201f1"
   }
  }
 },
 "nbformat": 4,
 "nbformat_minor": 2
}

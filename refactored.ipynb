{
 "cells": [
  {
   "cell_type": "markdown",
   "metadata": {},
   "source": [
    "# Trabalho Prático 01 - Computação Gráfica SCC0650\n",
    "\n",
    "##### Luiz Fernando Rabelo (11796893) e Matheus Bermudes Viana (11849797)"
   ]
  },
  {
   "cell_type": "markdown",
   "metadata": {},
   "source": [
    "### Importação de Bibliotecas\n",
    "\n",
    "No primeiro passo, importamos as bibliotecas padrão vistas em aula (OpenGL, _glfw_ para gerenciamento das janelas e _numpy_ para operações matemáticas e para manipulação de vetores e matrizes)."
   ]
  },
  {
   "cell_type": "code",
   "execution_count": 1351,
   "metadata": {},
   "outputs": [],
   "source": [
    "import glfw\n",
    "from OpenGL.GL import *\n",
    "import OpenGL.GL.shaders\n",
    "import numpy as np"
   ]
  },
  {
   "cell_type": "markdown",
   "metadata": {},
   "source": [
    "### Inicialização da Janela GLFW\n",
    "\n",
    "Inicializamos a janela com uma largura de 1000 e altura de 800, com o título \"Trabalho Prático 1\", determinando que inicialmente ela não será exibida. Optamos por passar parâmetros nulos para _monitor_ e _share_."
   ]
  },
  {
   "cell_type": "code",
   "execution_count": 1352,
   "metadata": {},
   "outputs": [],
   "source": [
    "glfw.init()\n",
    "glfw.window_hint(glfw.VISIBLE, glfw.FALSE)\n",
    "window = glfw.create_window(1000, 800, 'Trabalho Prático 1', None, None)\n",
    "glfw.make_context_current(window)"
   ]
  },
  {
   "cell_type": "markdown",
   "metadata": {},
   "source": [
    "### Definição de Código GLSL para Vertex Shader e Fragment Shader\n",
    "\n",
    "A fim de possibilitarmos as transformações e configurações de cores, atribuímos códigos GLSL para `vertex_code` e `fragment_code`:"
   ]
  },
  {
   "cell_type": "code",
   "execution_count": 1353,
   "metadata": {},
   "outputs": [],
   "source": [
    "vertex_code = \"\"\"\n",
    "        attribute vec2 position;\n",
    "        uniform mat4 mat_transformation;\n",
    "        void main(){\n",
    "            gl_Position = mat_transformation * vec4(position,0.0,1.0);\n",
    "        }\n",
    "        \"\"\"\n",
    "\n",
    "fragment_code = \"\"\"\n",
    "        uniform vec4 color;\n",
    "        void main(){\n",
    "            gl_FragColor = color;\n",
    "        }\n",
    "        \"\"\""
   ]
  },
  {
   "cell_type": "markdown",
   "metadata": {},
   "source": [
    "### Requisição de slot para a GPU para Vertex e Fragment Shaders"
   ]
  },
  {
   "cell_type": "code",
   "execution_count": 1354,
   "metadata": {},
   "outputs": [],
   "source": [
    "program  = glCreateProgram()\n",
    "vertex   = glCreateShader(GL_VERTEX_SHADER)\n",
    "fragment = glCreateShader(GL_FRAGMENT_SHADER)"
   ]
  },
  {
   "cell_type": "markdown",
   "metadata": {},
   "source": [
    "### Associação do Código Fonte aos Slots Solicitados"
   ]
  },
  {
   "cell_type": "code",
   "execution_count": 1355,
   "metadata": {},
   "outputs": [],
   "source": [
    "glShaderSource(vertex, vertex_code)\n",
    "glShaderSource(fragment, fragment_code)"
   ]
  },
  {
   "cell_type": "markdown",
   "metadata": {},
   "source": [
    "### Compilação do Vertex e Fragment Shaders"
   ]
  },
  {
   "cell_type": "code",
   "execution_count": 1356,
   "metadata": {},
   "outputs": [],
   "source": [
    "# Compilação do Vertex Shader:\n",
    "glCompileShader(vertex)\n",
    "if not glGetShaderiv(vertex, GL_COMPILE_STATUS):\n",
    "    error = glGetShaderInfoLog(vertex).decode()\n",
    "    print(error)\n",
    "    raise RuntimeError(\"Erro de compilacao do Vertex Shader\")\n",
    "\n",
    "# Compilação do Fragment Shader:\n",
    "glCompileShader(fragment)\n",
    "if not glGetShaderiv(fragment, GL_COMPILE_STATUS):\n",
    "    error = glGetShaderInfoLog(fragment).decode()\n",
    "    print(error)\n",
    "    raise RuntimeError(\"Erro de compilacao do Fragment Shader\")"
   ]
  },
  {
   "cell_type": "markdown",
   "metadata": {},
   "source": [
    "### Linkagem do Programa"
   ]
  },
  {
   "cell_type": "code",
   "execution_count": 1357,
   "metadata": {},
   "outputs": [],
   "source": [
    "# Associação dos Shaders complilados ao programa principal:\n",
    "glAttachShader(program, vertex)\n",
    "glAttachShader(program, fragment)\n",
    "\n",
    "# Construção do programa:\n",
    "glLinkProgram(program)\n",
    "if not glGetProgramiv(program, GL_LINK_STATUS):\n",
    "    print(glGetProgramInfoLog(program))\n",
    "    raise RuntimeError('Linking error')\n",
    "    \n",
    "# Declaração do programa atual como o default:\n",
    "glUseProgram(program)"
   ]
  },
  {
   "cell_type": "markdown",
   "metadata": {},
   "source": [
    "### Preparação dos Dados que Serão Enviados para a GPU\n",
    "\n",
    "A fim de modularizar a criação das coordenadas, foram desenvolvidas algumas funções responsáveis por construir os vértices dos objetos. Cada uma dessas funções retorna uma lista de tuplas representando as coordenadas computadas do objeto."
   ]
  },
  {
   "cell_type": "markdown",
   "metadata": {},
   "source": [
    "##### Função para Criação dos Vértices de um Círculo Genérico"
   ]
  },
  {
   "cell_type": "code",
   "execution_count": 1358,
   "metadata": {},
   "outputs": [],
   "source": [
    "def create_circle_vertices(radius, total_vertices):\n",
    "    vertices = []\n",
    "\n",
    "    step = 2 * np.pi / total_vertices\n",
    "    angle = 0\n",
    "\n",
    "    for i in range(total_vertices):\n",
    "        vertices.append((radius * np.cos(angle), radius * np.sin(angle)))\n",
    "        angle += step\n",
    "\n",
    "    return vertices"
   ]
  },
  {
   "cell_type": "markdown",
   "metadata": {},
   "source": [
    "##### Função para Criação dos Vértices da Grama"
   ]
  },
  {
   "cell_type": "code",
   "execution_count": 1359,
   "metadata": {},
   "outputs": [],
   "source": [
    "def create_grass_vertices():\n",
    "    vertices = []\n",
    "\n",
    "    for i in range(-13, 11, 1):\n",
    "        vertices.append((i/10, -0.9 if i % 3 == 0 else -1))\n",
    "\n",
    "    for i in range(-13, 11, 1):\n",
    "        vertices.append((i/10 - 0.165, -0.9 if i % 3 == 0 else -1))\n",
    "\n",
    "    return vertices"
   ]
  },
  {
   "cell_type": "markdown",
   "metadata": {},
   "source": [
    "##### Função para Criação dos Vértices do Coração"
   ]
  },
  {
   "cell_type": "code",
   "execution_count": 1360,
   "metadata": {},
   "outputs": [],
   "source": [
    "def create_heart_vertices():\n",
    "    vertices = []\n",
    "\n",
    "    vertices.append([0.20,0.24])\n",
    "    vertices.append([0.19,0.25])\n",
    "    vertices.append([0.18,0.25])\n",
    "    vertices.append([0.17,0.25])\n",
    "    vertices.append([0.16,0.24])\n",
    "    vertices.append([0.15,0.23])\n",
    "    vertices.append([0.15,0.22])\n",
    "    vertices.append([0.15,0.21])\n",
    "    vertices.append([0.15,0.20])\n",
    "    vertices.append([0.16,0.19])\n",
    "    vertices.append([0.17,0.18])\n",
    "    vertices.append([0.18,0.17])\n",
    "    vertices.append([0.19,0.16])\n",
    "    vertices.append([0.20,0.15])\n",
    "    vertices.append([0.21,0.16])\n",
    "    vertices.append([0.22,0.17])\n",
    "    vertices.append([0.23,0.18])\n",
    "    vertices.append([0.24,0.19])\n",
    "    vertices.append([0.25,0.20])\n",
    "    vertices.append([0.25,0.21])\n",
    "    vertices.append([0.25,0.22])\n",
    "    vertices.append([0.25,0.23])\n",
    "    vertices.append([0.24,0.24])\n",
    "    vertices.append([0.23,0.25])\n",
    "    vertices.append([0.22,0.25])\n",
    "    vertices.append([0.21,0.25])\n",
    "\n",
    "    return vertices"
   ]
  },
  {
   "cell_type": "markdown",
   "metadata": {},
   "source": [
    "##### Função para Criação dos Vértices do Corpo de uma Pessoa"
   ]
  },
  {
   "cell_type": "code",
   "execution_count": 1361,
   "metadata": {},
   "outputs": [],
   "source": [
    "def create_person_body_vertices():\n",
    "    vertices = []\n",
    "\n",
    "    vertices.append([0.0,0.0])\n",
    "    vertices.append([0.0,-0.15])\n",
    "    vertices.append([0.1,-0.2])\n",
    "    vertices.append([0.0,-0.15])\n",
    "    vertices.append([-0.1,-0.2])\n",
    "    vertices.append([0.0,-0.15])\n",
    "    vertices.append([0.0,-0.3])\n",
    "    vertices.append([-0.05,-0.45])\n",
    "    vertices.append([0.0,-0.3])\n",
    "    vertices.append([0.05,-0.45])\n",
    "    vertices.append([0.0,-0.3])\n",
    "\n",
    "    return vertices"
   ]
  },
  {
   "cell_type": "markdown",
   "metadata": {},
   "source": [
    "##### Função para Criação dos Vértices do Cabo de um Catavento"
   ]
  },
  {
   "cell_type": "code",
   "execution_count": 1362,
   "metadata": {},
   "outputs": [],
   "source": [
    "def create_wind_mill_handle_vertices(offset_x, offset_y):\n",
    "    vertices = []\n",
    "\n",
    "    vertices.append([+0.002 + offset_x,  0.0 + offset_y])\n",
    "    vertices.append([-0.002 + offset_x,  0.0 + offset_y])\n",
    "    vertices.append([-0.002 + offset_x, -0.3 + offset_y])\n",
    "    vertices.append([+0.002 + offset_x, -0.3 + offset_y])\n",
    "\n",
    "    return vertices"
   ]
  },
  {
   "cell_type": "markdown",
   "metadata": {},
   "source": [
    "##### Função para Criação dos Vértices das Pás de um Catavento"
   ]
  },
  {
   "cell_type": "code",
   "execution_count": 1363,
   "metadata": {},
   "outputs": [],
   "source": [
    "def create_wind_mill_shovel_vertices(offset_x, offset_y):\n",
    "    vertices = []\n",
    "    \n",
    "    step = np.pi / 3.5\n",
    "    angle = 0.0\n",
    "    radius = 0.1\n",
    "    \n",
    "    for i in range(12):\n",
    "        small_step = step / 7\n",
    "        vertices.append([0.0 + offset_x, 0.0 + offset_y])\n",
    "        vertices.append([0.7 * radius * np.cos(angle + 2 * small_step) + offset_x,\n",
    "                         0.7 * radius * np.sin(angle + 2 * small_step) + offset_y])\n",
    "        vertices.append([radius * np.cos(angle + 4 * small_step) + offset_x,\n",
    "                         radius * np.sin(angle + 4 * small_step) + offset_y])\n",
    "        vertices.append([0.7 * radius * np.cos(angle + 6 * small_step) + offset_x,\n",
    "                         0.7 * radius * np.sin(angle + 6 * small_step) + offset_y])   \n",
    "        angle += step\n",
    "\n",
    "    return vertices"
   ]
  },
  {
   "cell_type": "markdown",
   "metadata": {},
   "source": [
    "##### Função para Criação dos Vértices do Tronco da Árvore"
   ]
  },
  {
   "cell_type": "code",
   "execution_count": 1364,
   "metadata": {},
   "outputs": [],
   "source": [
    "def create_tree_trunk_vertices(offset_x, offset_y):\n",
    "    vertices = []\n",
    "\n",
    "    vertices.append((0 + offset_x, 0 + offset_y))\n",
    "    vertices.append((.1 + offset_x, -.4 + offset_y))\n",
    "    vertices.append((-.1 + offset_x, -.4 + offset_y))\n",
    "\n",
    "    return vertices"
   ]
  },
  {
   "cell_type": "markdown",
   "metadata": {},
   "source": [
    "##### Função para Criação dos Vértices da Copa da Árvore"
   ]
  },
  {
   "cell_type": "code",
   "execution_count": 1365,
   "metadata": {},
   "outputs": [],
   "source": [
    "def create_tree_top_vertices(offset_x, offset_y):\n",
    "    vertices = []\n",
    "\n",
    "    angle = 0\n",
    "    horizontal_wave = []\n",
    "\n",
    "    for i in range(31):\n",
    "        horizontal_wave.append([offset_x + 0.1 * np.cos(angle), offset_y + 0.1 * np.sin(angle)])\n",
    "        angle += np.pi / 30\n",
    "    \n",
    "    for vertex in horizontal_wave:\n",
    "        vertices.append([vertex[0], vertex[1]])\n",
    "\n",
    "    for vertex in horizontal_wave:\n",
    "        vertices.append([vertex[0] + 0.2, vertex[1]])\n",
    "\n",
    "    for vertex in horizontal_wave:\n",
    "        vertices.append([vertex[0], vertex[1] - 0.1])\n",
    "\n",
    "    for vertex in horizontal_wave:\n",
    "        vertices.append([vertex[0] + 0.2, vertex[1] - 0.1])\n",
    "\n",
    "    return vertices\n"
   ]
  },
  {
   "cell_type": "markdown",
   "metadata": {},
   "source": [
    "##### Criação dos Vértices dos Objetos"
   ]
  },
  {
   "cell_type": "code",
   "execution_count": 1366,
   "metadata": {},
   "outputs": [],
   "source": [
    "# Criação dos vértices do sol:\n",
    "sun_start = 0\n",
    "sun_vertices = create_circle_vertices(0.2, 10)\n",
    "sun_end = sun_start + len(sun_vertices)\n",
    "\n",
    "# Criação dos vértices da lua:\n",
    "moon_start = sun_end\n",
    "moon_vertices = create_circle_vertices(0.15, 30)\n",
    "moon_end = moon_start + len(moon_vertices)\n",
    "\n",
    "# Criação dos vértices da grama:\n",
    "grass_start = moon_end\n",
    "grass_vertices = create_grass_vertices()\n",
    "grass_end = grass_start + len(grass_vertices)\n",
    "\n",
    "# Criação dos vértices do corpo da pessoa azul:\n",
    "blue_p_body_start = grass_end \n",
    "blue_p_body_vertices = create_person_body_vertices()\n",
    "blue_p_body_end = blue_p_body_start + len(blue_p_body_vertices)\n",
    "\n",
    "# Criação dos vértices da cabeça da pessoa azul:\n",
    "blue_p_head_start = blue_p_body_end\n",
    "blue_p_head_vertices = create_circle_vertices(0.1, 30)\n",
    "blue_p_head_end = blue_p_head_start + len(blue_p_head_vertices)\n",
    "\n",
    "# Criação dos vértices do corpo da pessoa rosa:\n",
    "pink_p_body_start = blue_p_head_end \n",
    "pink_p_body_vertices = create_person_body_vertices()\n",
    "pink_p_body_end = pink_p_body_start + len(pink_p_body_vertices)\n",
    "\n",
    "# Criação dos vértices da cabeça da pessoa rosa:\n",
    "pink_p_head_start = pink_p_body_end\n",
    "pink_p_head_vertices = create_circle_vertices(0.1, 30)\n",
    "pink_p_head_end = pink_p_head_start + len(pink_p_head_vertices)\n",
    "\n",
    "# Criação dos vértices do cabo do catavento roxo:\n",
    "purple_wm_handle_start = pink_p_head_end\n",
    "purple_wm_handle_vertices = create_wind_mill_handle_vertices(0.0,0.0)\n",
    "purple_wm_handle_end = purple_wm_handle_start + len(purple_wm_handle_vertices)\n",
    "\n",
    "# Criação dos vértices das pás do catavento roxo:\n",
    "purple_wm_shovel_start = purple_wm_handle_end\n",
    "purple_wm_shovel_vertices = create_wind_mill_shovel_vertices(0.0,0.0)\n",
    "purple_wm_shovel_end = purple_wm_shovel_start + len(purple_wm_shovel_vertices)\n",
    "\n",
    "# Criação dos vértices do cabo do catavento vermelho:\n",
    "red_wm_handle_start = purple_wm_shovel_end\n",
    "red_wm_handle_vertices = create_wind_mill_handle_vertices(0.0,0.0)\n",
    "red_wm_handle_end = red_wm_handle_start + len(red_wm_handle_vertices)\n",
    "\n",
    "# Criação dos vértices das pás do catavento vermelho:\n",
    "red_wm_shovel_start = red_wm_handle_end\n",
    "red_wm_shovel_vertices = create_wind_mill_shovel_vertices(0.0,0.0)\n",
    "red_wm_shovel_end = red_wm_shovel_start + len(red_wm_shovel_vertices)\n",
    "\n",
    "# Criação dos vértices do tronco da árvore:\n",
    "tree_trunk_start = red_wm_shovel_end\n",
    "tree_trunk_vertices = create_tree_trunk_vertices(-0.7, -0.6)\n",
    "tree_trunk_end = tree_trunk_start + len(tree_trunk_vertices)\n",
    "\n",
    "# Criação dos vértices da copa da árvore:\n",
    "tree_top_start = tree_trunk_end\n",
    "tree_top_vertices = create_tree_top_vertices(-0.8, -0.6)\n",
    "tree_top_end = tree_top_start + len(tree_top_vertices)\n",
    "\n",
    "# Criar coração\n",
    "heart_start = tree_top_end\n",
    "heart_vertices = create_heart_vertices()\n",
    "heart_end = heart_start + len(heart_vertices)"
   ]
  },
  {
   "cell_type": "markdown",
   "metadata": {},
   "source": [
    "##### Criação de Vetor Único com as Coordenadas dos Objetos"
   ]
  },
  {
   "cell_type": "code",
   "execution_count": 1367,
   "metadata": {},
   "outputs": [],
   "source": [
    "# Determinação do total de vértices:\n",
    "total_vertices = heart_end  # último objeto\n",
    "\n",
    "# Preparação de espaço para os vértices, usando 2 coordenadas (x, y):\n",
    "vertices = np.zeros(total_vertices, [('position', np.float32, 2)])\n",
    "\n",
    "# Preenchimento das coordenadas do sol:\n",
    "for i in range(len(sun_vertices)):\n",
    "    vertices['position'][sun_start + i] = sun_vertices[i]\n",
    "\n",
    "# Preenchimento das coordenadas da lua:\n",
    "for i in range(len(moon_vertices)):\n",
    "    vertices['position'][moon_start + i] = moon_vertices[i]\n",
    "\n",
    "# Preenchimento das coordenadas da grama:\n",
    "for i in range(len(grass_vertices)):\n",
    "    vertices['position'][grass_start + i] = grass_vertices[i]\n",
    "\n",
    "# Preenchimento das coordenadas do corpo da pessoa azul:\n",
    "for i in range(len(blue_p_body_vertices)):\n",
    "    vertices['position'][blue_p_body_start + i] = blue_p_body_vertices[i]\n",
    "\n",
    "# Preenchimento das coordenadas da cabeça da pessoa azul:\n",
    "for i in range(len(blue_p_head_vertices)):\n",
    "    vertices['position'][blue_p_head_start + i] = blue_p_head_vertices[i]\n",
    "\n",
    "# Preenchimento das coordenadas do corpo da pessoa rosa:\n",
    "for i in range(len(pink_p_body_vertices)):\n",
    "    vertices['position'][pink_p_body_start + i] = pink_p_body_vertices[i]\n",
    "\n",
    "# Preenchimento das coordenadas da cabeça da pessoa rosa:\n",
    "for i in range(len(pink_p_head_vertices)):\n",
    "    vertices['position'][pink_p_head_start + i] = pink_p_head_vertices[i]\n",
    "\n",
    "# Preenchimento das coordenadas do cabo do catavento roxo:\n",
    "for i in range(len(purple_wm_handle_vertices)):\n",
    "    vertices['position'][purple_wm_handle_start + i] = purple_wm_handle_vertices[i]\n",
    "\n",
    "# Preenchimento das coordenadas das pás do catavento roxo:\n",
    "for i in range(len(purple_wm_shovel_vertices)):\n",
    "    vertices['position'][purple_wm_shovel_start + i] = purple_wm_shovel_vertices[i]\n",
    "\n",
    "# Preenchimento das coordenadas do cabo do catavento vermelho:\n",
    "for i in range(len(red_wm_handle_vertices)):\n",
    "    vertices['position'][red_wm_handle_start + i] = red_wm_handle_vertices[i]\n",
    "\n",
    "# Preenchimento das coordenadas das pás do catavento vermelho:\n",
    "for i in range(len(red_wm_shovel_vertices)):\n",
    "    vertices['position'][red_wm_shovel_start + i] = red_wm_shovel_vertices[i]\n",
    "\n",
    "# Preenchimento das coordenadas do tronco da árvore:\n",
    "for i in range(len(tree_trunk_vertices)):\n",
    "    vertices['position'][tree_trunk_start + i] = tree_trunk_vertices[i]\n",
    "\n",
    "# Preenchimento das coordenadas da copa da árvore:\n",
    "for i in range(len(tree_top_vertices)):\n",
    "    vertices['position'][tree_top_start + i] = tree_top_vertices[i]\n",
    "    \n",
    "# Preenchimento das coordenadas do coração\n",
    "for i in range(len(heart_vertices)):\n",
    "    vertices['position'][heart_start + i] = heart_vertices[i]"
   ]
  },
  {
   "cell_type": "markdown",
   "metadata": {},
   "source": [
    "### Requisição de Slot de Buffer para a GPU e Envio dos Vértices"
   ]
  },
  {
   "cell_type": "code",
   "execution_count": 1368,
   "metadata": {},
   "outputs": [],
   "source": [
    "# Requisição de slot de buffer da GPU:\n",
    "buffer = glGenBuffers(1)\n",
    "\n",
    "# Determinação que o buffer atual é o default:\n",
    "glBindBuffer(GL_ARRAY_BUFFER, buffer)\n",
    "\n",
    "# Envio dos dados:\n",
    "glBufferData(GL_ARRAY_BUFFER, vertices.nbytes, vertices, GL_DYNAMIC_DRAW)\n",
    "glBindBuffer(GL_ARRAY_BUFFER, buffer)"
   ]
  },
  {
   "cell_type": "markdown",
   "metadata": {},
   "source": [
    "### Associação das Variáveis do GLSL com os Dados:"
   ]
  },
  {
   "cell_type": "code",
   "execution_count": 1369,
   "metadata": {},
   "outputs": [],
   "source": [
    "# Definição do byte inicial e do offset de dados:\n",
    "stride = vertices.strides[0]\n",
    "offset = ctypes.c_void_p(0)\n",
    "\n",
    "# Definição da variável position no vertex shader:\n",
    "loc = glGetAttribLocation(program, \"position\")\n",
    "glEnableVertexAttribArray(loc)\n",
    "\n",
    "# Indicação do conteúdo para a variável position para a GPU:\n",
    "glVertexAttribPointer(loc, 2, GL_FLOAT, False, stride, offset)\n",
    "\n",
    "# Obtenção da localização da variável color, para que possa ser alterada:\n",
    "loc_color = glGetUniformLocation(program, \"color\")"
   ]
  },
  {
   "cell_type": "markdown",
   "metadata": {},
   "source": [
    "### Criação de Variáveis \"Globais\""
   ]
  },
  {
   "cell_type": "code",
   "execution_count": 1370,
   "metadata": {},
   "outputs": [],
   "source": [
    "# Offsets de translação do sol / lua:\n",
    "t_x_moon_sun = 0   # offset horizontal\n",
    "t_y_moon_sun = .7  # offset vertical\n",
    "\n",
    "# Grau de escala da árvore:\n",
    "s_tree = 1\n",
    "\n",
    "# Ângulo de rotação dos cataventos:\n",
    "wm_angle = 0.0\n",
    "\n",
    "# Flag de dia e noite:\n",
    "day = True\n",
    "\n",
    "# Escala RGB do plano de fundo:\n",
    "R = 0.1\n",
    "G = 0.2\n",
    "B = 0.9\n",
    "\n",
    "# Coordenadas da pessoa azul:\n",
    "blue_px = 0.0 \n",
    "blue_py = 0.0\n",
    "\n",
    "# Coordenadas da pessoa rosa:\n",
    "pink_px = 0.3\n",
    "pink_py = 0.0\n",
    "\n",
    "# Booleano para checar se as pessoas se encontraram:\n",
    "together = False\n"
   ]
  },
  {
   "cell_type": "markdown",
   "metadata": {},
   "source": [
    "### Definição de Constantes Associadas ao Teclado\n",
    "\n",
    "A fim de deixar o código mais legível, associamos alguns valores numéricos de códigos de teclas a constantes de nomes correspondentes. Definimos:"
   ]
  },
  {
   "cell_type": "code",
   "execution_count": 1371,
   "metadata": {},
   "outputs": [],
   "source": [
    "# Letras e seus códigos:\n",
    "W_CODE = 87  # pessoa azul cima\n",
    "A_CODE = 65  # pessoa azul esquerda\n",
    "S_CODE = 83  # pessoa azul baixo\n",
    "D_CODE = 68  # pessoa azul direita\n",
    "I_CODE = 73  # pessoa rosa cima\n",
    "J_CODE = 74  # pessoa rosa esquerda\n",
    "K_CODE = 75  # pessoa rosa baixo\n",
    "L_CODE = 76  # pessoa rosa direita\n",
    "\n",
    "# Setas e seus códigos:\n",
    "RIGHT_CODE = 262  # rotação dos cataventos direção 1\n",
    "LEFT_CODE  = 263  # rotação dos cataventos direção 2\n",
    "DOWN_CODE  = 264  # escala vertical menor\n",
    "UP_CODE    = 265  # escala vertical maior"
   ]
  },
  {
   "cell_type": "markdown",
   "metadata": {},
   "source": [
    "### Definição de Constantes Associadas à Coordenadas"
   ]
  },
  {
   "cell_type": "code",
   "execution_count": 1372,
   "metadata": {},
   "outputs": [],
   "source": [
    "# Limites das posições em que as pessoas podem ocupar:\n",
    "PERSON_MAX_X = +0.8\n",
    "PERSON_MIN_X = -0.8\n",
    "PERSON_MAX_Y = +0.6\n",
    "PERSON_MIN_Y = -0.55"
   ]
  },
  {
   "cell_type": "markdown",
   "metadata": {},
   "source": [
    "### Função para Capturar Eventos de Teclado\n"
   ]
  },
  {
   "cell_type": "code",
   "execution_count": 1373,
   "metadata": {},
   "outputs": [],
   "source": [
    "def key_event(window, key, scancode, action, mods):\n",
    "    global blue_px, blue_py, pink_px, pink_py, s_tree, wm_angle\n",
    "    # # Atualização do px da pessoa azul:\n",
    "    if key == D_CODE and blue_px <= PERSON_MAX_X - 0.01: blue_px += 0.01  # direita\n",
    "    if key == A_CODE and blue_px >= PERSON_MIN_X + 0.01: blue_px -= 0.01  # esquerda\n",
    "\n",
    "    # # Atualização do py da pessoa azul:\n",
    "    if key == W_CODE and blue_py <= PERSON_MAX_Y - 0.01: blue_py += 0.01  # cima\n",
    "    if key == S_CODE and blue_py >= PERSON_MIN_Y + 0.01: blue_py -= 0.01  # baixo\n",
    "\n",
    "    # # Atualização do px da pessoa rosa:\n",
    "    if key == L_CODE and pink_px <= PERSON_MAX_X - 0.01: pink_px += 0.01  # direita\n",
    "    if key == J_CODE and pink_px >= PERSON_MIN_X + 0.01: pink_px -= 0.01  # esquerda\n",
    "\n",
    "    # # Atualização do py da pessoa rosa:\n",
    "    if key == I_CODE and pink_py <= PERSON_MAX_Y - 0.01: pink_py += 0.01  # cima\n",
    "    if key == K_CODE and pink_py >= PERSON_MIN_Y + 0.01: pink_py -= 0.01  # baixo\n",
    "\n",
    "    # Atualização do parâmetro de escala da árvore:\n",
    "    if key == UP_CODE and s_tree < 2.0: s_tree += 0.01    # aumentar escala\n",
    "    if key == DOWN_CODE and s_tree > 0.5: s_tree -= 0.01  # diminuir escala\n",
    "\n",
    "    # Atualização do ângulo de rotação dos cataventos:\n",
    "    if key == LEFT_CODE: wm_angle += 0.02   # rotação anti-horária\n",
    "    if key == RIGHT_CODE: wm_angle -= 0.02  # rotação horária"
   ]
  },
  {
   "cell_type": "markdown",
   "metadata": {},
   "source": [
    "### Função que determina se as 2 pessoas colidiram"
   ]
  },
  {
   "cell_type": "code",
   "execution_count": 1374,
   "metadata": {},
   "outputs": [],
   "source": [
    "def are_people_colliding():\n",
    "    global blue_px, blue_py, pink_px, pink_py\n",
    "\n",
    "    dist = np.sqrt( (blue_px - pink_px) ** 2 + (blue_py - pink_py ) ** 2)\n",
    "\n",
    "    return dist < 0.2"
   ]
  },
  {
   "cell_type": "markdown",
   "metadata": {},
   "source": [
    "### Função que multiplica 2 Matrizes"
   ]
  },
  {
   "cell_type": "code",
   "execution_count": 1375,
   "metadata": {},
   "outputs": [],
   "source": [
    "def multiply_matrices(a, b):\n",
    "    m_a = a.reshape(4, 4)\n",
    "    m_b = b.reshape(4, 4)\n",
    "    m_c = np.dot(m_a, m_b)\n",
    "    c = m_c.reshape(1, 16)\n",
    "    return c"
   ]
  },
  {
   "cell_type": "markdown",
   "metadata": {},
   "source": [
    "### Função que cria uma Matriz de Translação"
   ]
  },
  {
   "cell_type": "code",
   "execution_count": 1376,
   "metadata": {},
   "outputs": [],
   "source": [
    "def create_translation_matrix(t_x, t_y):\n",
    "    translation_matrix = np.array([ 1.0, 0.0, 0.0, t_x, \n",
    "                                    0.0, 1.0, 0.0, t_y, \n",
    "                                    0.0, 0.0, 1.0, 0.0, \n",
    "                                    0.0, 0.0, 0.0, 1.0], np.float32)\n",
    "    return translation_matrix"
   ]
  },
  {
   "cell_type": "markdown",
   "metadata": {},
   "source": [
    "### Função que cria uma Matriz de Rotação"
   ]
  },
  {
   "cell_type": "code",
   "execution_count": 1377,
   "metadata": {},
   "outputs": [],
   "source": [
    "def create_rotation_matrix(angle):\n",
    "    rotation_matrix = np.array([ np.cos(angle), -np.sin(angle), 0.0, 0.0, \n",
    "                                 np.sin(angle),  np.cos(angle), 0.0, 0.0, \n",
    "                                 0.0,            0.0,           1.0, 0.0, \n",
    "                                 0.0,            0.0,           0.0, 1.0], np.float32)\n",
    "    return rotation_matrix"
   ]
  },
  {
   "cell_type": "markdown",
   "metadata": {},
   "source": [
    "### Função que cria uma Matriz de Escala"
   ]
  },
  {
   "cell_type": "code",
   "execution_count": 1378,
   "metadata": {},
   "outputs": [],
   "source": [
    "def create_scale_matrix(s, x_f=0, y_f=0):\n",
    "    scale_matrix = np.array([ s,   0.0, x_f * (1 - s), 0.0, \n",
    "                              0.0, s,   y_f * (1 - s), 0.0, \n",
    "                              0.0, 0.0, 1.0, 0.0, \n",
    "                              0.0, 0.0, 0.0, 1.0], np.float32)\n",
    "    return scale_matrix"
   ]
  },
  {
   "cell_type": "markdown",
   "metadata": {},
   "source": [
    "### Funçao que cria uma Matriz Identidade"
   ]
  },
  {
   "cell_type": "code",
   "execution_count": 1379,
   "metadata": {},
   "outputs": [],
   "source": [
    "def create_identity_matrix():\n",
    "    no_transformation_matrix = np.array([ 1.0, 0.0, 0.0, 0.0, \n",
    "                                          0.0, 1.0, 0.0, 0.0, \n",
    "                                          0.0, 0.0, 1.0, 0.0, \n",
    "                                          0.0, 0.0, 0.0, 1.0],\n",
    "                                          np.float32)\n",
    "    return no_transformation_matrix"
   ]
  },
  {
   "cell_type": "markdown",
   "metadata": {},
   "source": [
    "### Função para Desenho da Cor de Fundo Diurna"
   ]
  },
  {
   "cell_type": "code",
   "execution_count": 1380,
   "metadata": {},
   "outputs": [],
   "source": [
    "def draw_day_time_background():\n",
    "    global t_x_moon_sun, R, G, B\n",
    "\n",
    "    # Atualização da cor:\n",
    "    if t_x_moon_sun < 0:\n",
    "        B += 0.000355\n",
    "    else:\n",
    "        B -= 0.000355\n",
    "    \n",
    "    # Limpeza do buffer e sobreposição com a cor atualizada:\n",
    "    glClear(GL_COLOR_BUFFER_BIT)\n",
    "    glClearColor(R, G, B, 1.0)"
   ]
  },
  {
   "cell_type": "markdown",
   "metadata": {},
   "source": [
    "### Função para Desenho da Cor de Fundo Noturna"
   ]
  },
  {
   "cell_type": "code",
   "execution_count": 1381,
   "metadata": {},
   "outputs": [],
   "source": [
    "def draw_night_time_background():\n",
    "    global R, G, B\n",
    "\n",
    "    # Limpeza do buffer e sobreposição com a cor estática:\n",
    "    glClear(GL_COLOR_BUFFER_BIT)\n",
    "    glClearColor(R, G, B, 1.0)"
   ]
  },
  {
   "cell_type": "markdown",
   "metadata": {},
   "source": [
    "### Função para Desenho de Cor de Fundo Aleatória"
   ]
  },
  {
   "cell_type": "code",
   "execution_count": 1382,
   "metadata": {},
   "outputs": [],
   "source": [
    "def draw_random_color_background():\n",
    "    # Limpeza do buffer e sobreposição com a cor aleatória:\n",
    "    glClear(GL_COLOR_BUFFER_BIT)\n",
    "    glClearColor(1, .7, .75, 1)"
   ]
  },
  {
   "cell_type": "markdown",
   "metadata": {},
   "source": [
    "### Função para Desenho do Sol"
   ]
  },
  {
   "cell_type": "code",
   "execution_count": 1383,
   "metadata": {},
   "outputs": [],
   "source": [
    "def draw_sun():\n",
    "    global loc, loc_color, t_x_moon_sun, t_y_moon_sun, day, R, G, B\n",
    "\n",
    "    # Definição da cor do sol:\n",
    "    glUniform4f(loc_color, 1, .8, .1, 1.0)  # amarelo\n",
    "\n",
    "    # Atualização da posição:\n",
    "    t_x_moon_sun += 0.00071\n",
    "    glUniformMatrix4fv(loc, 1, GL_TRUE, create_translation_matrix(t_x_moon_sun, t_y_moon_sun))\n",
    "\n",
    "    # Desenho dos vértices:\n",
    "    glDrawArrays(GL_TRIANGLE_FAN, sun_start, len(sun_vertices))\n",
    "\n",
    "    # Verificação da troca de período:\n",
    "    if t_x_moon_sun >= 1.2:\n",
    "        day = False\n",
    "        t_x_moon_sun = -1.2\n",
    "        R, G, B = .1, .1, .1"
   ]
  },
  {
   "cell_type": "markdown",
   "metadata": {},
   "source": [
    "### Função para Desenho da Lua"
   ]
  },
  {
   "cell_type": "code",
   "execution_count": 1384,
   "metadata": {},
   "outputs": [],
   "source": [
    "def draw_moon():\n",
    "    global loc, loc_color, t_x_moon_sun, t_y_moon_sun, day, R, G, B\n",
    "\n",
    "    # Definição da cor da lua:\n",
    "    glUniform4f(loc_color, .9, .9, .95, 1.0)  # cinza azulado\n",
    "\n",
    "    # Atualização da posição:\n",
    "    t_x_moon_sun += 0.0005\n",
    "    glUniformMatrix4fv(loc, 1, GL_TRUE, create_translation_matrix(t_x_moon_sun, t_y_moon_sun))\n",
    "\n",
    "    # Desenho dos vértices:\n",
    "    glDrawArrays(GL_TRIANGLE_FAN, moon_start, len(moon_vertices))\n",
    "\n",
    "    # Verificação da troca de período:\n",
    "    if t_x_moon_sun >= 1.2:\n",
    "        day = True\n",
    "        t_x_moon_sun = -1.2\n",
    "        R, G, B = .1, .2, .3"
   ]
  },
  {
   "cell_type": "markdown",
   "metadata": {},
   "source": [
    "### Função para Desenho da Grama"
   ]
  },
  {
   "cell_type": "code",
   "execution_count": 1385,
   "metadata": {},
   "outputs": [],
   "source": [
    "def draw_grass():\n",
    "    global loc, loc_color\n",
    "\n",
    "    # Definição da cor da grama:\n",
    "    glUniform4f(loc_color, .3, 1, .3, 1.0)  # verde claro\n",
    "\n",
    "    # Desenho dos vértices (posição estática):\n",
    "    glUniformMatrix4fv(loc, 1, GL_TRUE, create_identity_matrix())\n",
    "    glDrawArrays(GL_TRIANGLES, grass_start, len(grass_vertices))"
   ]
  },
  {
   "cell_type": "markdown",
   "metadata": {},
   "source": [
    "### Função para Desenho da Pessoa Azul"
   ]
  },
  {
   "cell_type": "code",
   "execution_count": 1386,
   "metadata": {},
   "outputs": [],
   "source": [
    "def draw_blue_person():\n",
    "    global blue_px, blue_py\n",
    "    \n",
    "    # Definição da cor:\n",
    "    glUniform4f(loc_color, 0, 0.5, 1, 1.0)  # cor azul\n",
    "\n",
    "    # Desenho dos vértices do corpo:\n",
    "    glUniformMatrix4fv(loc, 1, GL_TRUE, create_translation_matrix(blue_px, blue_py))\n",
    "    glLineWidth(4.0)\n",
    "    glDrawArrays(GL_LINE_STRIP, blue_p_body_start, len(blue_p_body_vertices))\n",
    "\n",
    "    # Desenho dos vértices da cabeça:\n",
    "    glDrawArrays(GL_TRIANGLE_FAN, blue_p_head_start, len(blue_p_head_vertices))  \n"
   ]
  },
  {
   "cell_type": "markdown",
   "metadata": {},
   "source": [
    "### Função para Desenho da Pessoa Rosa"
   ]
  },
  {
   "cell_type": "code",
   "execution_count": 1387,
   "metadata": {},
   "outputs": [],
   "source": [
    "def draw_pink_person():\n",
    "    global pink_px, pink_py\n",
    "    \n",
    "    # Definição da cor:\n",
    "    glUniform4f(loc_color, 1, 0.2, .9, 1.0)  # cor rosa\n",
    "\n",
    "    # Desenho dos vértices do corpo:\n",
    "    glUniformMatrix4fv(loc, 1, GL_TRUE, create_translation_matrix(pink_px, pink_py))\n",
    "    glLineWidth(4.0)\n",
    "    glDrawArrays(GL_LINE_STRIP, pink_p_body_start, len( pink_p_body_vertices))\n",
    "\n",
    "    # Desenho dos vértices da cabeça:\n",
    "    glDrawArrays(GL_TRIANGLE_FAN,  pink_p_head_start, len( pink_p_head_vertices))  "
   ]
  },
  {
   "cell_type": "markdown",
   "metadata": {},
   "source": [
    "### Função para Desenho do Catavento Roxo"
   ]
  },
  {
   "cell_type": "code",
   "execution_count": 1388,
   "metadata": {},
   "outputs": [],
   "source": [
    "def draw_purple_wind_mill():\n",
    "    \n",
    "    global blue_px, blue_py, wm_angle\n",
    "    \n",
    "    # Definição da cor do cabo:\n",
    "    glUniform4f(loc_color, 0, 128/255, 0/255, 1.0)  # cor verde\n",
    "    \n",
    "    # Desenho do cabo do catavento:\n",
    "    translation_matrix = create_translation_matrix(blue_px + 0.08, blue_py + 0.1)\n",
    "    glUniformMatrix4fv(loc, 1, GL_TRUE, translation_matrix)\n",
    "    glDrawArrays(GL_LINE_STRIP, purple_wm_handle_start, len(purple_wm_handle_vertices))\n",
    "\n",
    "    # Definição da cor das pás:\n",
    "    glUniform4f(loc_color, 150/255, 0, 205/255.0, 1.0)  # cor roxa\n",
    "\n",
    "    # Desenho das pás do catavento:\n",
    "    multiplication_matrix = multiply_matrices(create_rotation_matrix(wm_angle), create_scale_matrix(1))\n",
    "    final_matrix = multiply_matrices(translation_matrix, multiplication_matrix)\n",
    "    glUniformMatrix4fv(loc, 1, GL_TRUE, final_matrix)\n",
    "    glDrawArrays(GL_TRIANGLE_FAN, purple_wm_shovel_start, len(purple_wm_shovel_vertices))"
   ]
  },
  {
   "cell_type": "markdown",
   "metadata": {},
   "source": [
    "### Função para Desenho do Catavento Vermelho"
   ]
  },
  {
   "cell_type": "code",
   "execution_count": 1389,
   "metadata": {},
   "outputs": [],
   "source": [
    "def draw_red_wind_mill():\n",
    "    \n",
    "    global pink_px, pink_py, wm_angle\n",
    "    \n",
    "    # Definição da cor do cabo:\n",
    "    glUniform4f(loc_color, 0, 228/255, 0/255, 1.0)  # cor verde\n",
    "\n",
    "    # Desenho do cabo do catavento:\n",
    "    translation_matrix = create_translation_matrix(pink_px - 0.08, pink_py + 0.1)\n",
    "    glUniformMatrix4fv(loc, 1, GL_TRUE, translation_matrix)\n",
    "    glDrawArrays(GL_LINE_STRIP, red_wm_handle_start, len(red_wm_handle_vertices))\n",
    "\n",
    "    # Definição da cor das pás:\n",
    "    glUniform4f(loc_color, 250/255, 0, 150/255, 1.0)  # cor vermelha arrosada\n",
    "\n",
    "    # Desenho das pás do catavento:\n",
    "    multiplication_matrix = multiply_matrices(create_rotation_matrix(wm_angle), create_scale_matrix(1))\n",
    "    final_matrix = multiply_matrices(translation_matrix, multiplication_matrix)\n",
    "    glUniformMatrix4fv(loc, 1, GL_TRUE, final_matrix)\n",
    "    glDrawArrays(GL_TRIANGLE_FAN, red_wm_shovel_start, len(red_wm_shovel_vertices))"
   ]
  },
  {
   "cell_type": "markdown",
   "metadata": {},
   "source": [
    "### Função para Desenho da Árvore"
   ]
  },
  {
   "cell_type": "code",
   "execution_count": 1390,
   "metadata": {},
   "outputs": [],
   "source": [
    "def draw_tree():\n",
    "    global loc, loc_color, s_tree\n",
    "\n",
    "    # Definição da cor do tronco:\n",
    "    glUniform4f(loc_color, .6, .3, 0, 1.0)  # marrom\n",
    "\n",
    "    # Desenho dos vértices do tronco:\n",
    "    glUniformMatrix4fv(loc, 1, GL_TRUE, create_scale_matrix(s_tree))\n",
    "    glDrawArrays(GL_TRIANGLE_FAN, tree_trunk_start, len(tree_trunk_vertices))\n",
    "\n",
    "    # Definição da cor da árvore:\n",
    "    glUniform4f(loc_color, .2, .5, .2, 1.0)  # verde escuro\n",
    "\n",
    "    # Desenho dos vértices da copa:\n",
    "    # glUniformMatrix4fv(loc, 1, GL_TRUE, create_scale_matrix(s_tree))\n",
    "    glDrawArrays(GL_TRIANGLE_FAN, tree_top_start, len(tree_top_vertices))"
   ]
  },
  {
   "cell_type": "markdown",
   "metadata": {},
   "source": [
    "### Função para Desenho do Coração"
   ]
  },
  {
   "cell_type": "code",
   "execution_count": 1391,
   "metadata": {},
   "outputs": [],
   "source": [
    "def draw_heart():\n",
    "    global loc, loc_color, blue_px, blue_py\n",
    "    \n",
    "    # Definição da cor do coração:\n",
    "    glUniform4f(loc_color, 1, 0, 0, 1.0)  # cor vermelha\n",
    "\n",
    "    # Desenho dos vértices (a partir da posição da pessoa azul):\n",
    "    translation_matrix = create_translation_matrix(blue_px - 1.3, blue_py - 0.8)\n",
    "    multiplication_matrix = multiply_matrices(translation_matrix, create_scale_matrix(7))\n",
    "    glUniformMatrix4fv(loc, 1, GL_TRUE, multiplication_matrix)    \n",
    "    glLineWidth(4.0)\n",
    "    glDrawArrays(GL_TRIANGLE_FAN, heart_start, len(heart_vertices))"
   ]
  },
  {
   "cell_type": "markdown",
   "metadata": {},
   "source": [
    "### Exibição da Janela"
   ]
  },
  {
   "cell_type": "code",
   "execution_count": 1392,
   "metadata": {},
   "outputs": [],
   "source": [
    "glfw.show_window(window)\n",
    "glfw.set_key_callback(window,key_event)"
   ]
  },
  {
   "cell_type": "markdown",
   "metadata": {},
   "source": [
    "### Loop Principal da Janela\n",
    "\n",
    "Enquanto a janela não for fechada, executamos o nosso laço principal:"
   ]
  },
  {
   "cell_type": "code",
   "execution_count": null,
   "metadata": {},
   "outputs": [],
   "source": [
    "while not glfw.window_should_close(window):\n",
    "    global together\n",
    "\n",
    "    # Captação de eventos glfw:\n",
    "    glfw.poll_events() \n",
    "\n",
    "    # Desenho do cenário diurno ou noturno:\n",
    "    if day:\n",
    "        if not together:\n",
    "            draw_day_time_background()\n",
    "        else:\n",
    "            draw_random_color_background()\n",
    "            draw_heart()\n",
    "        draw_sun()\n",
    "    else:\n",
    "        if not together:\n",
    "            draw_night_time_background()\n",
    "        else:\n",
    "            draw_random_color_background()\n",
    "            draw_heart()\n",
    "        draw_moon()\n",
    "    \n",
    "    # Desenho da árvore:\n",
    "    draw_tree()\n",
    "\n",
    "    # Desenho da grama:\n",
    "    draw_grass()\n",
    "\n",
    "    # Desenho dos cataventos:\n",
    "    draw_purple_wind_mill()\n",
    "    draw_red_wind_mill()\n",
    "\n",
    "    # Desenho das pessoas:\n",
    "    draw_blue_person()\n",
    "    draw_pink_person()\n",
    "\n",
    "    # Atualização do controle de colisão das pessoas:\n",
    "    together = are_people_colliding()\n",
    "\n",
    "    # Atualização da localização de mat_transformation:\n",
    "    loc = glGetUniformLocation(program, 'mat_transformation')\n",
    "\n",
    "    # Troca de buffers glfw:\n",
    "    glfw.swap_buffers(window)\n"
   ]
  },
  {
   "cell_type": "markdown",
   "metadata": {},
   "source": [
    "### Finalização da Execução\n",
    "\n",
    "Quando a janela for fechada, o laço principal será interrompido e podemos finalizar o sistema de janela _GLFW_:"
   ]
  },
  {
   "cell_type": "code",
   "execution_count": null,
   "metadata": {},
   "outputs": [],
   "source": [
    "glfw.terminate()"
   ]
  }
 ],
 "metadata": {
  "kernelspec": {
   "display_name": "Python 3 (ipykernel)",
   "language": "python",
   "name": "python3"
  },
  "language_info": {
   "codemirror_mode": {
    "name": "ipython",
    "version": 3
   },
   "file_extension": ".py",
   "mimetype": "text/x-python",
   "name": "python",
   "nbconvert_exporter": "python",
   "pygments_lexer": "ipython3",
   "version": "3.8.10"
  },
  "vscode": {
   "interpreter": {
    "hash": "916dbcbb3f70747c44a77c7bcd40155683ae19c65e1c03b4aa3499c5328201f1"
   }
  }
 },
 "nbformat": 4,
 "nbformat_minor": 2
}

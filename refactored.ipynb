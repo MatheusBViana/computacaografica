{
 "cells": [
  {
   "cell_type": "markdown",
   "metadata": {},
   "source": [
    "# Trabalho Prático 01 - Computação Gráfica SCC0650\n",
    "\n",
    "##### Luiz Fernando Rabelo (11796893) e Matheus Bermudes Viana (11849797)"
   ]
  },
  {
   "cell_type": "markdown",
   "metadata": {},
   "source": [
    "### Importação de Bibliotecas\n",
    "\n",
    "No primeiro passo, importamos as bibliotecas padrão vistas em aula (OpenGL, _glfw_ para gerenciamento das janelas e _numpy_ para operações matemáticas e para manipulação de vetores e matrizes)."
   ]
  },
  {
   "cell_type": "code",
   "execution_count": 44,
   "metadata": {},
   "outputs": [],
   "source": [
    "import glfw\n",
    "from OpenGL.GL import *\n",
    "import OpenGL.GL.shaders\n",
    "import numpy as np"
   ]
  },
  {
   "cell_type": "markdown",
   "metadata": {},
   "source": [
    "### Inicialização da Janela GLFW\n",
    "\n",
    "Inicializamos a janela com uma largura de 1000 e altura de 800, com o título \"Trabalho Prático 1\", determinando que inicialmente ela não será exibida. Optamos por passar parâmetros nulos para _monitor_ e _share_."
   ]
  },
  {
   "cell_type": "code",
   "execution_count": 45,
   "metadata": {},
   "outputs": [],
   "source": [
    "glfw.init()\n",
    "glfw.window_hint(glfw.VISIBLE, glfw.FALSE)\n",
    "window = glfw.create_window(1000, 800, 'Trabalho Prático 1', None, None)\n",
    "glfw.make_context_current(window)"
   ]
  },
  {
   "cell_type": "markdown",
   "metadata": {},
   "source": [
    "### Definição de Código GLSL para Vertex Shader e Fragment Shader\n",
    "\n",
    "A fim de possibilitarmos as transformações e configurações de cores, atribuímos códigos GLSL para `vertex_code` e `fragment_code`:"
   ]
  },
  {
   "cell_type": "code",
   "execution_count": 46,
   "metadata": {},
   "outputs": [],
   "source": [
    "vertex_code = \"\"\"\n",
    "        attribute vec2 position;\n",
    "        uniform mat4 mat_transformation;\n",
    "        void main(){\n",
    "            gl_Position = mat_transformation * vec4(position,0.0,1.0);\n",
    "        }\n",
    "        \"\"\"\n",
    "\n",
    "fragment_code = \"\"\"\n",
    "        uniform vec4 color;\n",
    "        void main(){\n",
    "            gl_FragColor = color;\n",
    "        }\n",
    "        \"\"\""
   ]
  },
  {
   "cell_type": "markdown",
   "metadata": {},
   "source": [
    "### Requisição de slot para a GPU para Vertex e Fragment Shaders"
   ]
  },
  {
   "cell_type": "code",
   "execution_count": 47,
   "metadata": {},
   "outputs": [],
   "source": [
    "program  = glCreateProgram()\n",
    "vertex   = glCreateShader(GL_VERTEX_SHADER)\n",
    "fragment = glCreateShader(GL_FRAGMENT_SHADER)"
   ]
  },
  {
   "cell_type": "markdown",
   "metadata": {},
   "source": [
    "### Associação do Código Fonte aos Slots Solicitados"
   ]
  },
  {
   "cell_type": "code",
   "execution_count": 48,
   "metadata": {},
   "outputs": [],
   "source": [
    "glShaderSource(vertex, vertex_code)\n",
    "glShaderSource(fragment, fragment_code)"
   ]
  },
  {
   "cell_type": "markdown",
   "metadata": {},
   "source": [
    "### Compilação do Vertex e Fragment Shaders"
   ]
  },
  {
   "cell_type": "code",
   "execution_count": 49,
   "metadata": {},
   "outputs": [],
   "source": [
    "# Compilação do Vertex Shader:\n",
    "glCompileShader(vertex)\n",
    "if not glGetShaderiv(vertex, GL_COMPILE_STATUS):\n",
    "    error = glGetShaderInfoLog(vertex).decode()\n",
    "    print(error)\n",
    "    raise RuntimeError(\"Erro de compilacao do Vertex Shader\")\n",
    "\n",
    "# Compilação do Fragment Shader:\n",
    "glCompileShader(fragment)\n",
    "if not glGetShaderiv(fragment, GL_COMPILE_STATUS):\n",
    "    error = glGetShaderInfoLog(fragment).decode()\n",
    "    print(error)\n",
    "    raise RuntimeError(\"Erro de compilacao do Fragment Shader\")"
   ]
  },
  {
   "cell_type": "markdown",
   "metadata": {},
   "source": [
    "### Linkagem do Programa"
   ]
  },
  {
   "cell_type": "code",
   "execution_count": 50,
   "metadata": {},
   "outputs": [],
   "source": [
    "# Associação dos Shaders complilados ao programa principal:\n",
    "glAttachShader(program, vertex)\n",
    "glAttachShader(program, fragment)\n",
    "\n",
    "# Construção do programa:\n",
    "glLinkProgram(program)\n",
    "if not glGetProgramiv(program, GL_LINK_STATUS):\n",
    "    print(glGetProgramInfoLog(program))\n",
    "    raise RuntimeError('Linking error')\n",
    "    \n",
    "# Declaração do programa atual como o default:\n",
    "glUseProgram(program)"
   ]
  },
  {
   "cell_type": "markdown",
   "metadata": {},
   "source": [
    "### Preparação dos Dados que Serão Enviados para a GPU"
   ]
  },
  {
   "cell_type": "code",
   "execution_count": 51,
   "metadata": {},
   "outputs": [],
   "source": [
    "\n",
    "#!!!\n",
    "\n",
    "# Obtenção dos vértices de cada objeto:\n",
    "# TODO:\n",
    "# v1 = create_vertex_object1()\n",
    "# v2 = create_vertex_object2()\n",
    "# ...\n",
    "# vn = create_vertex_objectn()\n",
    "\n",
    "# Cálculo da quantidade de vértices resultante:\n",
    "# TODO:\n",
    "# soma = len(v1) + len(v2) + ... + len(vn)\n",
    "\n",
    "# Preparando espaço para soma vértices usando 2 coordenadas (x, y):\n",
    "# TODO:\n",
    "# substituir 3 por soma e colocar 1 laço por objeto para atualizar os vértices\n",
    "vertices = np.zeros(3, [('position', np.float32, 2)])\n",
    "# Prenchendo as coordenadas de cada vértices:\n",
    "vertices['position'] = [\n",
    "    (0.0, +0.5),\n",
    "    (-0.5, -0.5),\n",
    "    (+0.5, -0.5)\n",
    "]\n",
    "\n",
    "#!!!\n"
   ]
  },
  {
   "cell_type": "markdown",
   "metadata": {},
   "source": [
    "### Requisição de Slot de Buffer para a GPU e Envio dos Vértices"
   ]
  },
  {
   "cell_type": "code",
   "execution_count": 52,
   "metadata": {},
   "outputs": [],
   "source": [
    "# Requisição de slot de buffer da GPU:\n",
    "buffer = glGenBuffers(1)\n",
    "\n",
    "# Determinação que o buffer atual é o default:\n",
    "glBindBuffer(GL_ARRAY_BUFFER, buffer)\n",
    "\n",
    "# Envio dos dados:\n",
    "glBufferData(GL_ARRAY_BUFFER, vertices.nbytes, vertices, GL_DYNAMIC_DRAW)\n",
    "glBindBuffer(GL_ARRAY_BUFFER, buffer)"
   ]
  },
  {
   "cell_type": "markdown",
   "metadata": {},
   "source": [
    "### Associação das Variáveis do GLSL com os Dados:"
   ]
  },
  {
   "cell_type": "code",
   "execution_count": 53,
   "metadata": {},
   "outputs": [],
   "source": [
    "# Definição do byte inicial e do offset de dados:\n",
    "stride = vertices.strides[0]\n",
    "offset = ctypes.c_void_p(0)\n",
    "\n",
    "# Definição da variável position no vertex shader:\n",
    "loc = glGetAttribLocation(program, \"position\")\n",
    "glEnableVertexAttribArray(loc)\n",
    "\n",
    "# Indicação do conteúdo para a variável position para a GPU:\n",
    "glVertexAttribPointer(loc, 2, GL_FLOAT, False, stride, offset)\n",
    "\n",
    "# Obtenção da localização da variável color, para que possa ser alterada:\n",
    "loc_color = glGetUniformLocation(program, \"color\")"
   ]
  },
  {
   "cell_type": "markdown",
   "metadata": {},
   "source": [
    "### Definição de Constantes Associadas ao Teclado\n",
    "\n",
    "A fim de deixar o código mais legível, associamos alguns valores numéricos de códigos de teclas a constantes de nomes correspondentes. Definimos:"
   ]
  },
  {
   "cell_type": "code",
   "execution_count": 54,
   "metadata": {},
   "outputs": [],
   "source": [
    "# Letras e seus códigos:\n",
    "W_CODE = 87  # pessoa azul cima\n",
    "A_CODE = 65  # pessoa azul esquerda\n",
    "S_CODE = 83  # pessoa azul baixo\n",
    "D_CODE = 68  # pessoa azul direita\n",
    "I_CODE = 73  # pessoa rosa cima\n",
    "J_CODE = 74  # pessoa rosa esquerda\n",
    "K_CODE = 75  # pessoa rosa baixo\n",
    "L_CODE = 76  # pessoa rosa direita\n",
    "\n",
    "# Setas e seus códigos:\n",
    "RIGHT_CODE = 262  # rotação dos cataventos direção 1\n",
    "LEFT_CODE  = 263  # rotação dos cataventos direção 2\n",
    "DOWN_CODE  = 264  # escala vertical menor\n",
    "UP_CODE    = 265  # escala vertical maior"
   ]
  },
  {
   "cell_type": "markdown",
   "metadata": {},
   "source": [
    "### Definição de Constantes Associadas à Posições"
   ]
  },
  {
   "cell_type": "code",
   "execution_count": 55,
   "metadata": {},
   "outputs": [],
   "source": [
    "# Limites das posições em que as pessoas podem ocupar:\n",
    "PERSON_MAX_X = +0.7\n",
    "PERSON_MIN_X = -0.3\n",
    "PERSON_MAX_Y = +0.7\n",
    "PERSON_MIN_Y = -0.3"
   ]
  },
  {
   "cell_type": "markdown",
   "metadata": {},
   "source": [
    "### Função para Capturar Eventos de Teclado\n"
   ]
  },
  {
   "cell_type": "code",
   "execution_count": 56,
   "metadata": {},
   "outputs": [],
   "source": [
    "def key_event(window, key, scancode, action, mods):\n",
    "    global px_blue, py_blue, px_pink, py_pink, s\n",
    "\n",
    "    # # Atualização do px da pessoa azul:\n",
    "    # if key == D_CODE and px_blue <= PERSON_MAX_X - 0.01: px_blue += 0.01  # direita\n",
    "    # if key == A_CODE and px_blue >= PERSON_MIN_X + 0.01: px_blue -= 0.01  # esquerda\n",
    "\n",
    "    # # Atualização do py da pessoa azul:\n",
    "    # if key == W_CODE and py_blue <= PERSON_MAX_Y - 0.01: py_blue += 0.01  # cima\n",
    "    # if key == S_CODE and py_blue >= PERSON_MIN_Y + 0.01: py_blue -= 0.01  # baixo\n",
    "\n",
    "    # # Atualização do px da pessoa rosa:\n",
    "    # if key == L_CODE and px_pink <= PERSON_MAX_X - 0.01: px_pink += 0.01  # direita\n",
    "    # if key == J_CODE and px_pink >= PERSON_MIN_X + 0.01: px_pink -= 0.01  # esquerda\n",
    "\n",
    "    # # Atualização do py da pessoa rosa:\n",
    "    # if key == I_CODE and py_pink <= PERSON_MAX_Y - 0.01: py_pink += 0.01  # cima\n",
    "    # if key == K_CODE and py_pink >= PERSON_MIN_Y + 0.01: py_pink -= 0.01  # baixo\n",
    "\n",
    "    # if(key == 265 and s < 2.0): s += 0.01 # UP arrow\n",
    "    # if(key == 264 and s > 0.5): s -= 0.01 # Down arrow  \n",
    "\n",
    "    # if(key == 262): angle2 += 0.02 # Right arrow\n",
    "    # if(key == 263): angle2 -= 0.02 # Left ar\n"
   ]
  },
  {
   "cell_type": "markdown",
   "metadata": {},
   "source": [
    "### Exibição da Janela"
   ]
  },
  {
   "cell_type": "code",
   "execution_count": 57,
   "metadata": {},
   "outputs": [],
   "source": [
    "glfw.show_window(window)"
   ]
  },
  {
   "cell_type": "markdown",
   "metadata": {},
   "source": [
    "### Loop Principal da Janela\n",
    "\n",
    "Enquanto a janela não for fechada, executamos o nosso laço principal:"
   ]
  },
  {
   "cell_type": "code",
   "execution_count": 58,
   "metadata": {},
   "outputs": [],
   "source": [
    "while not glfw.window_should_close(window):\n",
    "    # funcao interna do glfw para gerenciar eventos de mouse, teclado, etc\n",
    "    glfw.poll_events() \n",
    "\n",
    "    # limpa a cor de fundo da janela e preenche com outra no sistema RGBA\n",
    "    glClear(GL_COLOR_BUFFER_BIT)\n",
    "    \n",
    "    # definindo a cor da janela      \n",
    "    glClearColor(.1, .2, .3, 1.0)\n",
    "\n",
    "    mat_translation = np.array([    1.0, 0.0, 0.0, 0.01, \n",
    "                                    0.0, 1.0, 0.0, 0.01, \n",
    "                                    0.0, 0.0, 1.0, 0.0, \n",
    "                                    0.0, 0.0, 0.0, 1.0], np.float32)\n",
    "\n",
    "    loc = glGetUniformLocation(program, 'mat_transformation')\n",
    "    glUniformMatrix4fv(loc, 1, GL_TRUE, mat_translation)\n",
    "\n",
    "    glDrawArrays(GL_TRIANGLES, 0, len(vertices))\n",
    "\n",
    "    # gerencia troca de dados entre janela e o OpenGL\n",
    "    glfw.swap_buffers(window)\n"
   ]
  },
  {
   "cell_type": "markdown",
   "metadata": {},
   "source": [
    "### Finalização da Execução\n",
    "\n",
    "Quando a janela for fechada, o laço principal será interrompido e podemos finalizar o sistema de janela _GLFW_:"
   ]
  },
  {
   "cell_type": "code",
   "execution_count": 59,
   "metadata": {},
   "outputs": [],
   "source": [
    "glfw.terminate()"
   ]
  }
 ],
 "metadata": {
  "kernelspec": {
   "display_name": "Python 3.8.10 64-bit",
   "language": "python",
   "name": "python3"
  },
  "language_info": {
   "codemirror_mode": {
    "name": "ipython",
    "version": 3
   },
   "file_extension": ".py",
   "mimetype": "text/x-python",
   "name": "python",
   "nbconvert_exporter": "python",
   "pygments_lexer": "ipython3",
   "version": "3.8.10"
  },
  "orig_nbformat": 4,
  "vscode": {
   "interpreter": {
    "hash": "916dbcbb3f70747c44a77c7bcd40155683ae19c65e1c03b4aa3499c5328201f1"
   }
  }
 },
 "nbformat": 4,
 "nbformat_minor": 2
}
